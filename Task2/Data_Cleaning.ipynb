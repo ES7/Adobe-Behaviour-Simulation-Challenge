{
 "cells": [
  {
   "cell_type": "code",
   "execution_count": 1,
   "id": "78bddf0e-c352-4df0-ac85-cb04196c3650",
   "metadata": {},
   "outputs": [],
   "source": [
    "import pandas as pd"
   ]
  },
  {
   "cell_type": "code",
   "execution_count": 2,
   "id": "a25d8187-5cbe-4905-90fc-2b7136718034",
   "metadata": {},
   "outputs": [],
   "source": [
    "df1 = pd.read_csv('100000_captioned_dataset.csv', engine='python')\n",
    "df2 = pd.read_csv('100000_tokenized_dataset.csv', engine='python')"
   ]
  },
  {
   "cell_type": "code",
   "execution_count": 3,
   "id": "863c28ed-bc14-4c3d-9f79-eb72b9e22091",
   "metadata": {},
   "outputs": [
    {
     "data": {
      "text/plain": [
       "Index(['Unnamed: 0.1', 'Unnamed: 0', 'id', 'date', 'likes', 'content',\n",
       "       'username', 'media', 'inferred company', 'img_caption'],\n",
       "      dtype='object')"
      ]
     },
     "execution_count": 3,
     "metadata": {},
     "output_type": "execute_result"
    }
   ],
   "source": [
    "df1.columns"
   ]
  },
  {
   "cell_type": "code",
   "execution_count": 4,
   "id": "fb14329d-f0eb-48db-8540-e5dbc7fa1bab",
   "metadata": {},
   "outputs": [
    {
     "data": {
      "text/plain": [
       "Index(['content', 'content_tokens', 'img_caption', 'img_caption_tokens'], dtype='object')"
      ]
     },
     "execution_count": 4,
     "metadata": {},
     "output_type": "execute_result"
    }
   ],
   "source": [
    "df2.columns"
   ]
  },
  {
   "cell_type": "code",
   "execution_count": 13,
   "id": "f6d932f7-6f95-46cd-b62d-a60a509db9cf",
   "metadata": {},
   "outputs": [],
   "source": [
    "df1.drop('Unnamed: 0',axis = 1, inplace =True)\n",
    "df1.drop('Unnamed: 0.1',axis = 1, inplace =True)\n",
    "\n",
    "df1['content'] = df2['content']\n",
    "df1['content_tokens'] = df2['content_tokens']\n",
    "\n",
    "df1['img_caption_tokens'] = df2['img_caption_tokens']"
   ]
  },
  {
   "cell_type": "code",
   "execution_count": 14,
   "id": "d190d1b8-0f30-4593-a71e-072da42fdee4",
   "metadata": {},
   "outputs": [
    {
     "data": {
      "text/html": [
       "<div>\n",
       "<style scoped>\n",
       "    .dataframe tbody tr th:only-of-type {\n",
       "        vertical-align: middle;\n",
       "    }\n",
       "\n",
       "    .dataframe tbody tr th {\n",
       "        vertical-align: top;\n",
       "    }\n",
       "\n",
       "    .dataframe thead th {\n",
       "        text-align: right;\n",
       "    }\n",
       "</style>\n",
       "<table border=\"1\" class=\"dataframe\">\n",
       "  <thead>\n",
       "    <tr style=\"text-align: right;\">\n",
       "      <th></th>\n",
       "      <th>id</th>\n",
       "      <th>date</th>\n",
       "      <th>likes</th>\n",
       "      <th>content</th>\n",
       "      <th>username</th>\n",
       "      <th>media</th>\n",
       "      <th>inferred company</th>\n",
       "      <th>img_caption</th>\n",
       "      <th>content_tokens</th>\n",
       "      <th>img_caption_tokens</th>\n",
       "    </tr>\n",
       "  </thead>\n",
       "  <tbody>\n",
       "    <tr>\n",
       "      <th>0</th>\n",
       "      <td>1</td>\n",
       "      <td>2020-12-12 00:47:00</td>\n",
       "      <td>1</td>\n",
       "      <td>Spend your weekend morning with a Ham, Egg, an...</td>\n",
       "      <td>TimHortonsPH</td>\n",
       "      <td>[Photo(previewUrl='https://pbs.twimg.com/media...</td>\n",
       "      <td>tim hortons</td>\n",
       "      <td>a close up of a sandwich and a drink on a table</td>\n",
       "      <td>[101, 5247, 2115, 5353, 2851, 2007, 1037, 1065...</td>\n",
       "      <td>[101, 1037, 2485, 2039, 1997, 1037, 11642, 199...</td>\n",
       "    </tr>\n",
       "    <tr>\n",
       "      <th>1</th>\n",
       "      <td>2</td>\n",
       "      <td>2018-06-30 10:04:20</td>\n",
       "      <td>2750</td>\n",
       "      <td>Watch rapper &lt;mention&gt; freestyle for over an H...</td>\n",
       "      <td>IndyMusic</td>\n",
       "      <td>[Photo(previewUrl='https://pbs.twimg.com/media...</td>\n",
       "      <td>independent</td>\n",
       "      <td>a woman with dreadlocks is speaking into a mic...</td>\n",
       "      <td>[101, 3422, 10687, 1026, 5254, 1028, 9817, 200...</td>\n",
       "      <td>[101, 1037, 2450, 2007, 14436, 7878, 2015, 200...</td>\n",
       "    </tr>\n",
       "    <tr>\n",
       "      <th>2</th>\n",
       "      <td>3</td>\n",
       "      <td>2020-09-29 19:47:28</td>\n",
       "      <td>57</td>\n",
       "      <td>Canadian Armenian community demands ban on mil...</td>\n",
       "      <td>CBCCanada</td>\n",
       "      <td>[Photo(previewUrl='https://pbs.twimg.com/media...</td>\n",
       "      <td>cbc</td>\n",
       "      <td>there is a man in a green hat and a green helm...</td>\n",
       "      <td>[101, 3010, 7508, 2451, 7670, 7221, 2006, 2510...</td>\n",
       "      <td>[101, 2045, 2003, 1037, 2158, 1999, 1037, 2665...</td>\n",
       "    </tr>\n",
       "    <tr>\n",
       "      <th>3</th>\n",
       "      <td>4</td>\n",
       "      <td>2020-10-01 11:40:09</td>\n",
       "      <td>152</td>\n",
       "      <td>1st in Europe to be devastated by COVID-19, It...</td>\n",
       "      <td>MKWilliamsRome</td>\n",
       "      <td>[Photo(previewUrl='https://pbs.twimg.com/media...</td>\n",
       "      <td>williams</td>\n",
       "      <td>people are on the beach with umbrellas and cha...</td>\n",
       "      <td>[101, 3083, 1999, 2885, 2000, 2022, 13879, 201...</td>\n",
       "      <td>[101, 2111, 2024, 2006, 1996, 3509, 2007, 1297...</td>\n",
       "    </tr>\n",
       "    <tr>\n",
       "      <th>4</th>\n",
       "      <td>5</td>\n",
       "      <td>2018-10-19 14:30:46</td>\n",
       "      <td>41</td>\n",
       "      <td>Congratulations to Pauletha Butts of &lt;mention&gt;...</td>\n",
       "      <td>BGISD</td>\n",
       "      <td>[Photo(previewUrl='https://pbs.twimg.com/media...</td>\n",
       "      <td>independent</td>\n",
       "      <td>arafed man and woman standing in front of a cr...</td>\n",
       "      <td>[101, 23156, 2000, 2703, 11031, 2050, 10007, 2...</td>\n",
       "      <td>[101, 19027, 25031, 2158, 1998, 2450, 3061, 19...</td>\n",
       "    </tr>\n",
       "    <tr>\n",
       "      <th>...</th>\n",
       "      <td>...</td>\n",
       "      <td>...</td>\n",
       "      <td>...</td>\n",
       "      <td>...</td>\n",
       "      <td>...</td>\n",
       "      <td>...</td>\n",
       "      <td>...</td>\n",
       "      <td>...</td>\n",
       "      <td>...</td>\n",
       "      <td>...</td>\n",
       "    </tr>\n",
       "    <tr>\n",
       "      <th>99996</th>\n",
       "      <td>99997</td>\n",
       "      <td>2020-07-13 14:00:10</td>\n",
       "      <td>84</td>\n",
       "      <td>In 45 minutes, you’ll discover how #cloud infr...</td>\n",
       "      <td>Azure</td>\n",
       "      <td>[Video(thumbnailUrl='https://pbs.twimg.com/med...</td>\n",
       "      <td>microsoft</td>\n",
       "      <td>NaN</td>\n",
       "      <td>[101, 1999, 3429, 2781, 1010, 2017, 1521, 2222...</td>\n",
       "      <td>[101, 102, 0, 0, 0, 0, 0, 0, 0, 0, 0, 0, 0, 0,...</td>\n",
       "    </tr>\n",
       "    <tr>\n",
       "      <th>99997</th>\n",
       "      <td>99998</td>\n",
       "      <td>2020-11-25 19:11:05</td>\n",
       "      <td>97</td>\n",
       "      <td>Rudy Giuliani claims the margin of victory in ...</td>\n",
       "      <td>AmerIndependent</td>\n",
       "      <td>[Video(thumbnailUrl='https://pbs.twimg.com/ext...</td>\n",
       "      <td>independent</td>\n",
       "      <td>NaN</td>\n",
       "      <td>[101, 18254, 21025, 20922, 3490, 4447, 1996, 7...</td>\n",
       "      <td>[101, 102, 0, 0, 0, 0, 0, 0, 0, 0, 0, 0, 0, 0,...</td>\n",
       "    </tr>\n",
       "    <tr>\n",
       "      <th>99998</th>\n",
       "      <td>99999</td>\n",
       "      <td>2018-10-07 06:43:57</td>\n",
       "      <td>1260</td>\n",
       "      <td>Simply lovely 💪 Max takes his seventh podium o...</td>\n",
       "      <td>redbullracing</td>\n",
       "      <td>[Gif(thumbnailUrl='https://pbs.twimg.com/tweet...</td>\n",
       "      <td>oracle</td>\n",
       "      <td>NaN</td>\n",
       "      <td>[101, 3432, 8403, 100, 4098, 3138, 2010, 5066,...</td>\n",
       "      <td>[101, 102, 0, 0, 0, 0, 0, 0, 0, 0, 0, 0, 0, 0,...</td>\n",
       "    </tr>\n",
       "    <tr>\n",
       "      <th>99999</th>\n",
       "      <td>100000</td>\n",
       "      <td>2020-03-29 04:43:44</td>\n",
       "      <td>1412</td>\n",
       "      <td>[Recap] Video: Top WHO doctor Bruce Aylward pr...</td>\n",
       "      <td>hkfp</td>\n",
       "      <td>[Photo(previewUrl='https://pbs.twimg.com/media...</td>\n",
       "      <td>free</td>\n",
       "      <td>a woman in a suit and tie is talking to a man ...</td>\n",
       "      <td>[101, 1031, 28667, 9331, 1033, 2678, 1024, 232...</td>\n",
       "      <td>[101, 1037, 2450, 1999, 1037, 4848, 1998, 5495...</td>\n",
       "    </tr>\n",
       "    <tr>\n",
       "      <th>100000</th>\n",
       "      <td>100001</td>\n",
       "      <td>2020-07-12 15:19:38</td>\n",
       "      <td>797</td>\n",
       "      <td>SPY: That's the Red Bull Ring done and dusted....</td>\n",
       "      <td>redbullracing</td>\n",
       "      <td>[Photo(previewUrl='https://pbs.twimg.com/media...</td>\n",
       "      <td>oracle</td>\n",
       "      <td>NaN</td>\n",
       "      <td>[101, 8645, 1024, 2008, 1005, 1055, 1996, 2417...</td>\n",
       "      <td>[101, 102, 0, 0, 0, 0, 0, 0, 0, 0, 0, 0, 0, 0,...</td>\n",
       "    </tr>\n",
       "  </tbody>\n",
       "</table>\n",
       "<p>100001 rows × 10 columns</p>\n",
       "</div>"
      ],
      "text/plain": [
       "            id                 date  likes  \\\n",
       "0            1  2020-12-12 00:47:00      1   \n",
       "1            2  2018-06-30 10:04:20   2750   \n",
       "2            3  2020-09-29 19:47:28     57   \n",
       "3            4  2020-10-01 11:40:09    152   \n",
       "4            5  2018-10-19 14:30:46     41   \n",
       "...        ...                  ...    ...   \n",
       "99996    99997  2020-07-13 14:00:10     84   \n",
       "99997    99998  2020-11-25 19:11:05     97   \n",
       "99998    99999  2018-10-07 06:43:57   1260   \n",
       "99999   100000  2020-03-29 04:43:44   1412   \n",
       "100000  100001  2020-07-12 15:19:38    797   \n",
       "\n",
       "                                                  content         username  \\\n",
       "0       Spend your weekend morning with a Ham, Egg, an...     TimHortonsPH   \n",
       "1       Watch rapper <mention> freestyle for over an H...        IndyMusic   \n",
       "2       Canadian Armenian community demands ban on mil...        CBCCanada   \n",
       "3       1st in Europe to be devastated by COVID-19, It...   MKWilliamsRome   \n",
       "4       Congratulations to Pauletha Butts of <mention>...            BGISD   \n",
       "...                                                   ...              ...   \n",
       "99996   In 45 minutes, you’ll discover how #cloud infr...            Azure   \n",
       "99997   Rudy Giuliani claims the margin of victory in ...  AmerIndependent   \n",
       "99998   Simply lovely 💪 Max takes his seventh podium o...    redbullracing   \n",
       "99999   [Recap] Video: Top WHO doctor Bruce Aylward pr...             hkfp   \n",
       "100000  SPY: That's the Red Bull Ring done and dusted....    redbullracing   \n",
       "\n",
       "                                                    media inferred company  \\\n",
       "0       [Photo(previewUrl='https://pbs.twimg.com/media...      tim hortons   \n",
       "1       [Photo(previewUrl='https://pbs.twimg.com/media...      independent   \n",
       "2       [Photo(previewUrl='https://pbs.twimg.com/media...              cbc   \n",
       "3       [Photo(previewUrl='https://pbs.twimg.com/media...         williams   \n",
       "4       [Photo(previewUrl='https://pbs.twimg.com/media...      independent   \n",
       "...                                                   ...              ...   \n",
       "99996   [Video(thumbnailUrl='https://pbs.twimg.com/med...        microsoft   \n",
       "99997   [Video(thumbnailUrl='https://pbs.twimg.com/ext...      independent   \n",
       "99998   [Gif(thumbnailUrl='https://pbs.twimg.com/tweet...           oracle   \n",
       "99999   [Photo(previewUrl='https://pbs.twimg.com/media...             free   \n",
       "100000  [Photo(previewUrl='https://pbs.twimg.com/media...           oracle   \n",
       "\n",
       "                                              img_caption  \\\n",
       "0         a close up of a sandwich and a drink on a table   \n",
       "1       a woman with dreadlocks is speaking into a mic...   \n",
       "2       there is a man in a green hat and a green helm...   \n",
       "3       people are on the beach with umbrellas and cha...   \n",
       "4       arafed man and woman standing in front of a cr...   \n",
       "...                                                   ...   \n",
       "99996                                                 NaN   \n",
       "99997                                                 NaN   \n",
       "99998                                                 NaN   \n",
       "99999   a woman in a suit and tie is talking to a man ...   \n",
       "100000                                                NaN   \n",
       "\n",
       "                                           content_tokens  \\\n",
       "0       [101, 5247, 2115, 5353, 2851, 2007, 1037, 1065...   \n",
       "1       [101, 3422, 10687, 1026, 5254, 1028, 9817, 200...   \n",
       "2       [101, 3010, 7508, 2451, 7670, 7221, 2006, 2510...   \n",
       "3       [101, 3083, 1999, 2885, 2000, 2022, 13879, 201...   \n",
       "4       [101, 23156, 2000, 2703, 11031, 2050, 10007, 2...   \n",
       "...                                                   ...   \n",
       "99996   [101, 1999, 3429, 2781, 1010, 2017, 1521, 2222...   \n",
       "99997   [101, 18254, 21025, 20922, 3490, 4447, 1996, 7...   \n",
       "99998   [101, 3432, 8403, 100, 4098, 3138, 2010, 5066,...   \n",
       "99999   [101, 1031, 28667, 9331, 1033, 2678, 1024, 232...   \n",
       "100000  [101, 8645, 1024, 2008, 1005, 1055, 1996, 2417...   \n",
       "\n",
       "                                       img_caption_tokens  \n",
       "0       [101, 1037, 2485, 2039, 1997, 1037, 11642, 199...  \n",
       "1       [101, 1037, 2450, 2007, 14436, 7878, 2015, 200...  \n",
       "2       [101, 2045, 2003, 1037, 2158, 1999, 1037, 2665...  \n",
       "3       [101, 2111, 2024, 2006, 1996, 3509, 2007, 1297...  \n",
       "4       [101, 19027, 25031, 2158, 1998, 2450, 3061, 19...  \n",
       "...                                                   ...  \n",
       "99996   [101, 102, 0, 0, 0, 0, 0, 0, 0, 0, 0, 0, 0, 0,...  \n",
       "99997   [101, 102, 0, 0, 0, 0, 0, 0, 0, 0, 0, 0, 0, 0,...  \n",
       "99998   [101, 102, 0, 0, 0, 0, 0, 0, 0, 0, 0, 0, 0, 0,...  \n",
       "99999   [101, 1037, 2450, 1999, 1037, 4848, 1998, 5495...  \n",
       "100000  [101, 102, 0, 0, 0, 0, 0, 0, 0, 0, 0, 0, 0, 0,...  \n",
       "\n",
       "[100001 rows x 10 columns]"
      ]
     },
     "execution_count": 14,
     "metadata": {},
     "output_type": "execute_result"
    }
   ],
   "source": [
    "df1"
   ]
  },
  {
   "cell_type": "code",
   "execution_count": 15,
   "id": "59d28aec-bdad-432c-8ff5-1bf9e0cdc0d9",
   "metadata": {},
   "outputs": [],
   "source": [
    "df1.to_csv('1000000_cleaned_data.csv')"
   ]
  },
  {
   "cell_type": "code",
   "execution_count": 39,
   "id": "fb7b503f-3c16-4c5d-9c4c-446c15af8989",
   "metadata": {},
   "outputs": [
    {
     "name": "stdout",
     "output_type": "stream",
     "text": [
      "90001 10000\n"
     ]
    }
   ],
   "source": [
    "train_df = df1[:90001]\n",
    "test_df = df1[90001:]\n",
    "print(len(train_df), len(test_df))"
   ]
  },
  {
   "cell_type": "code",
   "execution_count": 40,
   "id": "c409b27f-1e97-4435-9980-6357c08490c3",
   "metadata": {},
   "outputs": [],
   "source": [
    "train_df = train_df[['date', 'likes', 'content', 'content_tokens', 'username', 'inferred company', 'img_caption', 'img_caption_tokens']]\n",
    "test_df = test_df[['date', 'likes', 'content', 'content_tokens', 'username', 'inferred company', 'img_caption', 'img_caption_tokens']]"
   ]
  },
  {
   "cell_type": "code",
   "execution_count": 41,
   "id": "de153cfc-5561-4be2-9890-f35ada162b4c",
   "metadata": {},
   "outputs": [],
   "source": [
    "def clean(example):\n",
    "    example = example[pd.notnull(example['img_caption'])]\n",
    "    return example"
   ]
  },
  {
   "cell_type": "code",
   "execution_count": 42,
   "id": "e76bbb9d-e0a4-412e-8ded-c2999e41d007",
   "metadata": {},
   "outputs": [],
   "source": [
    "train_df = clean(train_df)\n",
    "test_df = clean(test_df)"
   ]
  },
  {
   "cell_type": "code",
   "execution_count": 43,
   "id": "f7d080db-b37a-4598-9616-2482a1a5ca2b",
   "metadata": {},
   "outputs": [
    {
     "name": "stdout",
     "output_type": "stream",
     "text": [
      "61377 6814\n"
     ]
    }
   ],
   "source": [
    "print(len(train_df), len(test_df))"
   ]
  },
  {
   "cell_type": "code",
   "execution_count": 44,
   "id": "5ccd30b5-cd4e-405c-81df-dad3c15b25a3",
   "metadata": {},
   "outputs": [],
   "source": [
    "def merge_columns(example):\n",
    "    example[\"prediction\"] = example.apply(\n",
    "        lambda row: f\"{row['inferred company']} with username {row['username']} posted a tweet at {str(row['date'])} with an image that is {row['img_caption']} with number of likes {str(row['likes'])} that reads ->: {str(row['content'])}\",\n",
    "        axis=1)\n",
    "    return example"
   ]
  },
  {
   "cell_type": "code",
   "execution_count": 45,
   "id": "c28169ed-c14c-4182-8d1c-efef0e7586dc",
   "metadata": {},
   "outputs": [],
   "source": [
    "train_df = merge_columns(train_df)\n",
    "test_df = merge_columns(test_df)"
   ]
  },
  {
   "cell_type": "code",
   "execution_count": 48,
   "id": "890de2d3-0c4e-46b9-a756-11df565a5d3d",
   "metadata": {},
   "outputs": [
    {
     "data": {
      "text/plain": [
       "'independent with username IndyMusic posted a tweet at 2018-06-30 10:04:20 with an image that is a woman with dreadlocks is speaking into a microphone with number of likes 2750 that reads ->: Watch rapper <mention> freestyle for over an HOUR <hyperlink> <hyperlink>'"
      ]
     },
     "execution_count": 48,
     "metadata": {},
     "output_type": "execute_result"
    }
   ],
   "source": [
    "train_df['prediction'][1]"
   ]
  },
  {
   "cell_type": "code",
   "execution_count": 49,
   "id": "47089531-6eb5-4ffd-a150-07222cff617b",
   "metadata": {},
   "outputs": [],
   "source": [
    "train_df.to_csv('train_df.csv')\n",
    "test_df.to_csv('test_df.csv')"
   ]
  },
  {
   "cell_type": "code",
   "execution_count": null,
   "id": "e2cd446d-f18b-4639-bef9-12ac0cdb1c05",
   "metadata": {},
   "outputs": [],
   "source": []
  }
 ],
 "metadata": {
  "kernelspec": {
   "display_name": "Python 3 (ipykernel)",
   "language": "python",
   "name": "python3"
  },
  "language_info": {
   "codemirror_mode": {
    "name": "ipython",
    "version": 3
   },
   "file_extension": ".py",
   "mimetype": "text/x-python",
   "name": "python",
   "nbconvert_exporter": "python",
   "pygments_lexer": "ipython3",
   "version": "3.11.7"
  }
 },
 "nbformat": 4,
 "nbformat_minor": 5
}
