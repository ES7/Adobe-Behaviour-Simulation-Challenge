{
 "cells": [
  {
   "cell_type": "code",
   "execution_count": 1,
   "id": "56401f15-8a04-415b-9e83-4aacdbc47add",
   "metadata": {},
   "outputs": [],
   "source": [
    "import pandas as pd"
   ]
  },
  {
   "cell_type": "code",
   "execution_count": 4,
   "id": "1244b0bf-fba2-4636-9637-bade291c751f",
   "metadata": {},
   "outputs": [],
   "source": [
    "df1 = pd.read_csv('captioned_dataset.csv', engine='python')\n",
    "df2 = pd.read_csv('captioned_dataset_2.csv', engine='python')"
   ]
  },
  {
   "cell_type": "code",
   "execution_count": 5,
   "id": "fecbc612-b862-49f3-8e78-6b46a2aa50bb",
   "metadata": {},
   "outputs": [],
   "source": [
    "column_to_copy = df2['img_caption']"
   ]
  },
  {
   "cell_type": "code",
   "execution_count": 11,
   "id": "0b25b5ed-d2a9-4ec8-9461-62f7b03d6646",
   "metadata": {},
   "outputs": [],
   "source": [
    "df1.loc[100000:100000+len(column_to_copy)-1, 'img_caption'] = column_to_copy.values"
   ]
  },
  {
   "cell_type": "code",
   "execution_count": 17,
   "id": "36ddd8da-59f8-42df-8d4e-452186d4f127",
   "metadata": {},
   "outputs": [],
   "source": [
    "df1.to_csv('captioned_dataset_3.csv')"
   ]
  },
  {
   "cell_type": "code",
   "execution_count": null,
   "id": "e2c78ecd-4864-40d4-a5cc-776836098e6c",
   "metadata": {},
   "outputs": [],
   "source": [
    "# 109533 from here to 200000"
   ]
  },
  {
   "cell_type": "code",
   "execution_count": 19,
   "id": "d247e080-b3c9-4bcd-8a29-8f7f58769bf0",
   "metadata": {},
   "outputs": [
    {
     "data": {
      "text/plain": [
       "33202"
      ]
     },
     "execution_count": 19,
     "metadata": {},
     "output_type": "execute_result"
    }
   ],
   "source": [
    "df = pd.read_csv('captioned_dataset_2.csv', engine='python')\n",
    "len(df)"
   ]
  },
  {
   "cell_type": "code",
   "execution_count": 2,
   "id": "3cebab5e-c823-4f6a-a450-0bf17f5bfc1e",
   "metadata": {},
   "outputs": [],
   "source": [
    "df = pd.read_csv('captioned_dataset.csv', engine='python')"
   ]
  },
  {
   "cell_type": "code",
   "execution_count": 5,
   "id": "0a32e85d-3194-499a-9b49-484ddb705861",
   "metadata": {},
   "outputs": [
    {
     "data": {
      "text/html": [
       "<div>\n",
       "<style scoped>\n",
       "    .dataframe tbody tr th:only-of-type {\n",
       "        vertical-align: middle;\n",
       "    }\n",
       "\n",
       "    .dataframe tbody tr th {\n",
       "        vertical-align: top;\n",
       "    }\n",
       "\n",
       "    .dataframe thead th {\n",
       "        text-align: right;\n",
       "    }\n",
       "</style>\n",
       "<table border=\"1\" class=\"dataframe\">\n",
       "  <thead>\n",
       "    <tr style=\"text-align: right;\">\n",
       "      <th></th>\n",
       "      <th>Unnamed: 0</th>\n",
       "      <th>id</th>\n",
       "      <th>date</th>\n",
       "      <th>likes</th>\n",
       "      <th>content</th>\n",
       "      <th>username</th>\n",
       "      <th>media</th>\n",
       "      <th>inferred company</th>\n",
       "      <th>img_caption</th>\n",
       "    </tr>\n",
       "  </thead>\n",
       "  <tbody>\n",
       "    <tr>\n",
       "      <th>0</th>\n",
       "      <td>0</td>\n",
       "      <td>1</td>\n",
       "      <td>2020-12-12 00:47:00</td>\n",
       "      <td>1</td>\n",
       "      <td>Spend your weekend morning with a Ham, Egg, an...</td>\n",
       "      <td>TimHortonsPH</td>\n",
       "      <td>[Photo(previewUrl='https://pbs.twimg.com/media...</td>\n",
       "      <td>tim hortons</td>\n",
       "      <td>a close up of a sandwich and a drink on a table</td>\n",
       "    </tr>\n",
       "    <tr>\n",
       "      <th>1</th>\n",
       "      <td>1</td>\n",
       "      <td>2</td>\n",
       "      <td>2018-06-30 10:04:20</td>\n",
       "      <td>2750</td>\n",
       "      <td>Watch rapper &lt;mention&gt; freestyle for over an H...</td>\n",
       "      <td>IndyMusic</td>\n",
       "      <td>[Photo(previewUrl='https://pbs.twimg.com/media...</td>\n",
       "      <td>independent</td>\n",
       "      <td>a woman with dreadlocks is speaking into a mic...</td>\n",
       "    </tr>\n",
       "  </tbody>\n",
       "</table>\n",
       "</div>"
      ],
      "text/plain": [
       "   Unnamed: 0  id                 date  likes  \\\n",
       "0           0   1  2020-12-12 00:47:00      1   \n",
       "1           1   2  2018-06-30 10:04:20   2750   \n",
       "\n",
       "                                             content      username  \\\n",
       "0  Spend your weekend morning with a Ham, Egg, an...  TimHortonsPH   \n",
       "1  Watch rapper <mention> freestyle for over an H...     IndyMusic   \n",
       "\n",
       "                                               media inferred company  \\\n",
       "0  [Photo(previewUrl='https://pbs.twimg.com/media...      tim hortons   \n",
       "1  [Photo(previewUrl='https://pbs.twimg.com/media...      independent   \n",
       "\n",
       "                                         img_caption  \n",
       "0    a close up of a sandwich and a drink on a table  \n",
       "1  a woman with dreadlocks is speaking into a mic...  "
      ]
     },
     "execution_count": 5,
     "metadata": {},
     "output_type": "execute_result"
    }
   ],
   "source": [
    "new_df = df[:100001]\n",
    "new_df.head(2)"
   ]
  },
  {
   "cell_type": "code",
   "execution_count": 4,
   "id": "1f80b05a-3bd8-42ae-978c-54fcbaa612bf",
   "metadata": {},
   "outputs": [
    {
     "data": {
      "text/plain": [
       "100001"
      ]
     },
     "execution_count": 4,
     "metadata": {},
     "output_type": "execute_result"
    }
   ],
   "source": [
    "len(new_df)"
   ]
  },
  {
   "cell_type": "code",
   "execution_count": 6,
   "id": "32c44392-43c1-4aa6-a419-8d74aa8145a9",
   "metadata": {},
   "outputs": [],
   "source": [
    "new_df.to_csv('100000_captioned_dataset.csv')"
   ]
  },
  {
   "cell_type": "code",
   "execution_count": null,
   "id": "fdf894a2-3da7-4b52-b1ad-110e6e429873",
   "metadata": {},
   "outputs": [],
   "source": []
  }
 ],
 "metadata": {
  "kernelspec": {
   "display_name": "Python 3 (ipykernel)",
   "language": "python",
   "name": "python3"
  },
  "language_info": {
   "codemirror_mode": {
    "name": "ipython",
    "version": 3
   },
   "file_extension": ".py",
   "mimetype": "text/x-python",
   "name": "python",
   "nbconvert_exporter": "python",
   "pygments_lexer": "ipython3",
   "version": "3.11.7"
  }
 },
 "nbformat": 4,
 "nbformat_minor": 5
}
